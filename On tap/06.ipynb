{
 "cells": [
  {
   "cell_type": "code",
   "execution_count": 41,
   "metadata": {},
   "outputs": [
    {
     "name": "stdout",
     "output_type": "stream",
     "text": [
      "4321\n"
     ]
    }
   ],
   "source": [
    "# Đảo chuỗi\n",
    "n=input()\n",
    "x=n.rsplit('0')\n",
    "b=x[0]\n",
    "a=''\n",
    "\n",
    "for i in b:\n",
    "    a=str(i)+a\n",
    "\n",
    "print(a)"
   ]
  },
  {
   "cell_type": "code",
   "execution_count": 7,
   "metadata": {},
   "outputs": [
    {
     "name": "stdout",
     "output_type": "stream",
     "text": [
      "5!=120\n"
     ]
    }
   ],
   "source": [
    "# Tính giai thừa\n",
    "while True:\n",
    "    a=1\n",
    "    i=1\n",
    "    n=int(input('n='))\n",
    "    if n<0:\n",
    "        break\n",
    "    else:\n",
    "       while a<=n:\n",
    "         i*=a\n",
    "         a+=1\n",
    "    print(f'{n}!={i}')\n",
    "         "
   ]
  },
  {
   "cell_type": "code",
   "execution_count": 2,
   "metadata": {},
   "outputs": [
    {
     "name": "stdout",
     "output_type": "stream",
     "text": [
      "Boi chung nho nhat la: 3\n"
     ]
    }
   ],
   "source": [
    "# Tìm bội chung nhỏ nhất\n",
    "so_a=int(input('a='))\n",
    "so_b=int(input('b='))\n",
    "\n",
    "a, b = so_a, so_b\n",
    "while b:\n",
    "    a, b = b, a % b\n",
    "bcnn=abs(so_a*so_b)//a\n",
    "\n",
    "print(f'Boi chung nho nhat la: {bcnn}')"
   ]
  },
  {
   "cell_type": "code",
   "execution_count": 6,
   "metadata": {},
   "outputs": [
    {
     "name": "stdout",
     "output_type": "stream",
     "text": [
      "Uoc chung lon nhat la: 6\n",
      "[1, 2, 3, 6]\n"
     ]
    }
   ],
   "source": [
    "# Tìm ước chung lớn nhất\n",
    "a=int(input('a='))\n",
    "b=int(input('b='))\n",
    "A=[]\n",
    "B=[]\n",
    "C=[]\n",
    "\n",
    "for i in range(1,a+1):\n",
    "    if a%i==0:\n",
    "        A.append(i)\n",
    "        \n",
    "for j in range(1,b+1):\n",
    "    if b%j==0:\n",
    "        B.append(j)\n",
    "        \n",
    "for x in A:\n",
    "    if x in B:\n",
    "        C.append(x)\n",
    "        \n",
    "print(f'Uoc chung lon nhat la: {max(C)}')\n",
    "print(C)"
   ]
  },
  {
   "cell_type": "code",
   "execution_count": null,
   "metadata": {},
   "outputs": [],
   "source": [
    "# Tìm các số chia hết cho 3 và đảo chuỗi\n",
    "a,b=input().split()\n",
    "a=int(a)\n",
    "b=int(b)\n",
    "s=0\n",
    "\n",
    "A=[]\n",
    "\n",
    "for i in range(a,b+1):\n",
    "    if i%3==0:\n",
    "        A.append(i)\n",
    "        s+=1\n",
    "\n",
    "if s>0:\n",
    "    A.sort(reverse=True)\n",
    "    for j in A:\n",
    "        print(j,end=' ')\n",
    "    \n",
    "else:\n",
    "    print('Not found')"
   ]
  },
  {
   "cell_type": "code",
   "execution_count": null,
   "metadata": {},
   "outputs": [],
   "source": [
    "# Nhập n số nguyên dương từ người dùng trên cùng một dòng\n",
    "n = int(input(\"Nhập số nguyên dương n: \"))\n",
    "\n",
    "so_nguyen_str = input()\n",
    "so_nguyen = list(map(int, so_nguyen_str.split()))"
   ]
  },
  {
   "cell_type": "code",
   "execution_count": null,
   "metadata": {},
   "outputs": [],
   "source": [
    "# Tính số ngày của tháng\n",
    "a,b=input().split()\n",
    "thang = int(a)\n",
    "nam = int(b)\n",
    "\n",
    "# Các tháng có 31 ngày\n",
    "thang_31_ngay = {1, 3, 5, 7, 8, 10, 12}\n",
    "\n",
    "# Các tháng có 30 ngày\n",
    "thang_30_ngay = {4, 6, 9, 11}\n",
    "\n",
    "# Kiểm tra nếu là tháng 2\n",
    "if thang == 2:\n",
    "    if (nam % 4 == 0 and nam % 100 != 0) or (nam % 400 == 0):\n",
    "        so_ngay = 29\n",
    "    else:\n",
    "        so_ngay = 28\n",
    "\n",
    "elif thang in thang_31_ngay:\n",
    "    so_ngay = 31\n",
    "\n",
    "elif thang in thang_30_ngay:\n",
    "    so_ngay = 30\n",
    "\n",
    "# Nếu tháng không nằm trong khoảng từ 1 đến 12\n",
    "else:\n",
    "    print(\"Tháng không hợp lệ.\")\n",
    "    so_ngay = None\n",
    "\n",
    "if so_ngay is not None:\n",
    "    print(f\"Số ngày trong tháng {thang}/{nam} là: {so_ngay} ngày.\")\n"
   ]
  },
  {
   "cell_type": "code",
   "execution_count": 20,
   "metadata": {},
   "outputs": [
    {
     "name": "stdout",
     "output_type": "stream",
     "text": [
      "3\n"
     ]
    }
   ],
   "source": [
    "# Bài tháp Hà Nội\n",
    "def tower_of_hanoi(n: int) -> int:\n",
    "    if n == 1:\n",
    "        return 1\n",
    "    else:\n",
    "        return 2 * tower_of_hanoi(n - 1) + 1\n",
    "\n",
    "n = int(input())\n",
    "print(tower_of_hanoi(n))"
   ]
  },
  {
   "cell_type": "code",
   "execution_count": 23,
   "metadata": {},
   "outputs": [
    {
     "name": "stdout",
     "output_type": "stream",
     "text": [
      "YES\n"
     ]
    }
   ],
   "source": [
    "# Số chính phương\n",
    "import math\n",
    "n=int(input())\n",
    "if math.sqrt(n).is_integer()==True:\n",
    "    print('YES')\n",
    "else:\n",
    "    print('NO')"
   ]
  },
  {
   "cell_type": "code",
   "execution_count": 25,
   "metadata": {},
   "outputs": [
    {
     "name": "stdout",
     "output_type": "stream",
     "text": [
      "1.0\n"
     ]
    }
   ],
   "source": [
    "# Giải phương trình bậc 1\n",
    "a,b=input().split()\n",
    "a=int(a)\n",
    "b=int(b)\n",
    "\n",
    "if a==0 and b==0:\n",
    "    print('WOW')\n",
    "if a!=0:\n",
    "    print(round((-b/a),2))\n",
    "if a==0 and b!=0:\n",
    "    print('NO')"
   ]
  },
  {
   "cell_type": "code",
   "execution_count": 26,
   "metadata": {},
   "outputs": [
    {
     "name": "stdout",
     "output_type": "stream",
     "text": [
      "131 là số đối xứng.\n"
     ]
    }
   ],
   "source": [
    "# Số đối xứng\n",
    "so = int(input())\n",
    "\n",
    "str_so = str(so)\n",
    "do_dai = len(str_so)\n",
    "la_doi_xung = True\n",
    "\n",
    "for i in range(do_dai // 2):\n",
    "    if str_so[i] != str_so[do_dai - i - 1]:\n",
    "        la_doi_xung = False\n",
    "        break\n",
    "\n",
    "if la_doi_xung:\n",
    "    print(f\"{so} là số đối xứng.\")\n",
    "else:\n",
    "    print(f\"{so} không phải là số đối xứng.\")\n"
   ]
  },
  {
   "cell_type": "code",
   "execution_count": null,
   "metadata": {},
   "outputs": [],
   "source": [
    "# Số hoàn hảo\n",
    "u=0\n",
    "n=int(input('n='))\n",
    "for i in range(1,n):\n",
    "    if n%i==0: u+=i\n",
    "    else: continue\n",
    "if u==n: print(f'{n} la so hoan hao')\n",
    "else: print(f'{n} khong phai la so hoan hao')"
   ]
  },
  {
   "cell_type": "code",
   "execution_count": 1,
   "metadata": {},
   "outputs": [
    {
     "name": "stdout",
     "output_type": "stream",
     "text": [
      "7\n"
     ]
    }
   ],
   "source": [
    "# Tim so nguyen to gan nhat\n",
    "n=int(input())\n",
    "a=n+1\n",
    "while True:\n",
    "    snt=True\n",
    "    for i in range(2,int(a**0.5)+1):\n",
    "        if a%i==0:\n",
    "            snt=False\n",
    "            break\n",
    "    if snt:\n",
    "        break\n",
    "    a+=1\n",
    "print(a)"
   ]
  },
  {
   "cell_type": "code",
   "execution_count": 3,
   "metadata": {},
   "outputs": [
    {
     "name": "stdout",
     "output_type": "stream",
     "text": [
      "2002,2009,2016,2023,2037,2044,2051,2058,2072,2079,2086,2093,2107,2114,2121,2128,2142,2149,2156,2163,2177,2184,2191,2198,2212,2219,2226,2233,2247,2254,2261,2268,2282,2289,2296,2303,2317,2324,2331,2338,2352,2359,2366,2373,2387,2394,2401,2408,2422,2429,2436,2443,2457,2464,2471,2478,2492,2499,2506,2513,2527,2534,2541,2548,2562,2569,2576,2583,2597,2604,2611,2618,2632,2639,2646,2653,2667,2674,2681,2688,2702,2709,2716,2723,2737,2744,2751,2758,2772,2779,2786,2793,2807,2814,2821,2828,2842,2849,2856,2863,2877,2884,2891,2898,2912,2919,2926,2933,2947,2954,2961,2968,2982,2989,2996,3003,3017,3024,3031,3038,3052,3059,3066,3073,3087,3094,3101,3108,3122,3129,3136,3143,3157,3164,3171,3178,3192,3199,"
     ]
    }
   ],
   "source": [
    "for i in range(2000,3201):\n",
    "    if i%7==0 and i%5!=0:\n",
    "        print(i,end=',')"
   ]
  },
  {
   "cell_type": "code",
   "execution_count": 1,
   "metadata": {},
   "outputs": [
    {
     "name": "stdout",
     "output_type": "stream",
     "text": [
      "Nhap mot so nguyen:\n",
      "Tong cua 5 so nguyen duonng dau tien=15\n"
     ]
    }
   ],
   "source": [
    "def Nhap():\n",
    "    print(\"Nhap mot so nguyen:\")\n",
    "    n=int(input(\"n=\"))\n",
    "    return n\n",
    "\n",
    "def Tinh(n):\n",
    "    S=0\n",
    "    for x in range(1,n+1):\n",
    "        S=S+x\n",
    "    return S\n",
    "\n",
    "def InKQ(n,S):\n",
    "    print(f'Tong cua {n} so nguyen duonng dau tien={S}')\n",
    "    \n",
    "n=Nhap()\n",
    "S=Tinh(n)\n",
    "InKQ(n,S)"
   ]
  },
  {
   "cell_type": "code",
   "execution_count": null,
   "metadata": {},
   "outputs": [],
   "source": []
  }
 ],
 "metadata": {
  "kernelspec": {
   "display_name": "Python 3",
   "language": "python",
   "name": "python3"
  },
  "language_info": {
   "codemirror_mode": {
    "name": "ipython",
    "version": 3
   },
   "file_extension": ".py",
   "mimetype": "text/x-python",
   "name": "python",
   "nbconvert_exporter": "python",
   "pygments_lexer": "ipython3",
   "version": "3.8.0"
  }
 },
 "nbformat": 4,
 "nbformat_minor": 2
}
