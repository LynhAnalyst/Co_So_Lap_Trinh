{
 "cells": [
  {
   "cell_type": "code",
   "execution_count": 6,
   "metadata": {},
   "outputs": [
    {
     "name": "stdout",
     "output_type": "stream",
     "text": [
      "\"Đen Vâu\" is a rap singer\n",
      "He's 32 years old\n",
      "I want to become a rapper\n"
     ]
    }
   ],
   "source": [
    "print(\"\\\"Đen Vâu\\\" is a rap singer\\nHe\\'s 32 years old\\nI want to become a rapper\")"
   ]
  },
  {
   "cell_type": "code",
   "execution_count": 2,
   "metadata": {},
   "outputs": [
    {
     "name": "stdout",
     "output_type": "stream",
     "text": [
      "Python\n",
      "Programming\n",
      "Pro\n",
      "thon\n",
      "Pyming\n"
     ]
    }
   ],
   "source": [
    "str=\"Python Programming\"\n",
    "str1=str[:6]\n",
    "print(str1)\n",
    "str2=str[7:]\n",
    "print(str2)\n",
    "str3=str2[0:3]\n",
    "print(str3)\n",
    "str4=str1[-4:]\n",
    "print(str4)\n",
    "str5=str[:2]+str[-4:]\n",
    "print(str5)"
   ]
  },
  {
   "cell_type": "code",
   "execution_count": 3,
   "metadata": {},
   "outputs": [
    {
     "name": "stdout",
     "output_type": "stream",
     "text": [
      "b\n",
      "a\n",
      "n\n",
      "a\n",
      "n\n",
      "a\n"
     ]
    }
   ],
   "source": [
    "fruit='banana'\n",
    "index=0\n",
    "while index<len(fruit):\n",
    "    letter=fruit[index]\n",
    "    print(letter)\n",
    "    index+=1"
   ]
  },
  {
   "cell_type": "code",
   "execution_count": 4,
   "metadata": {},
   "outputs": [
    {
     "name": "stdout",
     "output_type": "stream",
     "text": [
      "b\n",
      "a\n",
      "n\n",
      "a\n",
      "n\n",
      "a\n"
     ]
    }
   ],
   "source": [
    "fruit='banana'\n",
    "for i in fruit:\n",
    "    print(i)"
   ]
  },
  {
   "cell_type": "code",
   "execution_count": 10,
   "metadata": {},
   "outputs": [
    {
     "name": "stdout",
     "output_type": "stream",
     "text": [
      "Python\n",
      "Programming\n",
      "True\n",
      "False\n",
      "True\n",
      "True\n"
     ]
    }
   ],
   "source": [
    "str=\"Python Programming\"\n",
    "str1=str[:6]\n",
    "str2=str[7:]\n",
    "print(str1)\n",
    "print(str2)\n",
    "\n",
    "print(str1 in str)\n",
    "print(str2 not in str)\n",
    "\n",
    "str3=\"PYTHON\"\n",
    "print(str3 not in str)\n",
    "print(\" \" in str)"
   ]
  }
 ],
 "metadata": {
  "kernelspec": {
   "display_name": "Python 3",
   "language": "python",
   "name": "python3"
  },
  "language_info": {
   "codemirror_mode": {
    "name": "ipython",
    "version": 3
   },
   "file_extension": ".py",
   "mimetype": "text/x-python",
   "name": "python",
   "nbconvert_exporter": "python",
   "pygments_lexer": "ipython3",
   "version": "3.8.0"
  }
 },
 "nbformat": 4,
 "nbformat_minor": 2
}
